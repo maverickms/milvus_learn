{
 "cells": [
  {
   "cell_type": "code",
   "execution_count": 1,
   "id": "56272e90-b991-4891-b459-fc2b1f626cf8",
   "metadata": {},
   "outputs": [],
   "source": [
    "from pymilvus import Collection, FieldSchema, CollectionSchema, DataType, connections, utility"
   ]
  },
  {
   "cell_type": "code",
   "execution_count": 3,
   "id": "9c949394-18dc-427f-b591-046e9695ef4f",
   "metadata": {},
   "outputs": [],
   "source": [
    "connections.connect(\n",
    "    alias='default',\n",
    "    host='localhost',\n",
    "    port='19530'\n",
    ")"
   ]
  },
  {
   "cell_type": "code",
   "execution_count": 4,
   "id": "137c7dce-1e65-4b8e-8e97-65fe99139f8e",
   "metadata": {},
   "outputs": [],
   "source": [
    "## Field Schema\n",
    "\n",
    "song_name = FieldSchema(\n",
    "    name=\"song_name\",\n",
    "    dtype=DataType.VARCHAR,\n",
    "    max_length=200\n",
    ")\n",
    "song_id = FieldSchema(\n",
    "    name=\"song_id\",\n",
    "    dtype=DataType.INT64,\n",
    "    is_primary=True\n",
    ")\n",
    "listen_count = FieldSchema(\n",
    "    name=\"listen_count\",\n",
    "    dtype=DataType.INT64\n",
    ")\n",
    "song_vec = FieldSchema(\n",
    "    name=\"song_vec\",\n",
    "    dtype=DataType.FLOAT_VECTOR,\n",
    "    dim=2\n",
    ")"
   ]
  },
  {
   "cell_type": "code",
   "execution_count": 5,
   "id": "00cde4ba-3df1-4b1c-a5c8-19a6ca6d1e28",
   "metadata": {},
   "outputs": [],
   "source": [
    "# Collection schema\n",
    "\n",
    "collection_schema = CollectionSchema (\n",
    "    fields=[song_name, song_id, listen_count, song_vec]\n",
    ")"
   ]
  },
  {
   "cell_type": "code",
   "execution_count": 6,
   "id": "84b518ca-26a6-4b79-b44c-8bb960ebed8e",
   "metadata": {},
   "outputs": [
    {
     "data": {
      "text/plain": [
       "['Album1']"
      ]
     },
     "execution_count": 6,
     "metadata": {},
     "output_type": "execute_result"
    }
   ],
   "source": [
    "# Create collection\n",
    "\n",
    "collection = Collection (\n",
    "    name=\"Album1\",\n",
    "    schema=collection_schema,\n",
    "    using='default')\n",
    "utility.list_collections()"
   ]
  },
  {
   "cell_type": "code",
   "execution_count": 7,
   "id": "c1bc52f2-31b6-4f13-8154-f0215c86d069",
   "metadata": {},
   "outputs": [],
   "source": [
    "utility.rename_collection('Album1', 'Album2')"
   ]
  },
  {
   "cell_type": "code",
   "execution_count": 10,
   "id": "71dfb1a5-2cdb-4bdf-89dc-86a8f3d79b22",
   "metadata": {},
   "outputs": [
    {
     "data": {
      "text/plain": [
       "['Album2']"
      ]
     },
     "execution_count": 10,
     "metadata": {},
     "output_type": "execute_result"
    }
   ],
   "source": [
    "utility.list_collections()"
   ]
  },
  {
   "cell_type": "code",
   "execution_count": 11,
   "id": "6147f733-ce7a-4b27-b85e-604a92d70238",
   "metadata": {},
   "outputs": [
    {
     "data": {
      "text/plain": [
       "[]"
      ]
     },
     "execution_count": 11,
     "metadata": {},
     "output_type": "execute_result"
    }
   ],
   "source": [
    "utility.drop_collection('Album2')\n",
    "utility.list_collections()"
   ]
  },
  {
   "cell_type": "code",
   "execution_count": null,
   "id": "b4ac9013-f04b-45c4-89cc-9461318c4d4a",
   "metadata": {},
   "outputs": [],
   "source": []
  }
 ],
 "metadata": {
  "kernelspec": {
   "display_name": "Python 3 (ipykernel)",
   "language": "python",
   "name": "python3"
  },
  "language_info": {
   "codemirror_mode": {
    "name": "ipython",
    "version": 3
   },
   "file_extension": ".py",
   "mimetype": "text/x-python",
   "name": "python",
   "nbconvert_exporter": "python",
   "pygments_lexer": "ipython3",
   "version": "3.9.18"
  }
 },
 "nbformat": 4,
 "nbformat_minor": 5
}

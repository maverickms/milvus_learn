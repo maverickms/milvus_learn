{
 "cells": [
  {
   "cell_type": "code",
   "execution_count": 1,
   "id": "f254c6ca-4c88-42e3-8732-f6fc9b0a61fa",
   "metadata": {},
   "outputs": [
    {
     "name": "stdout",
     "output_type": "stream",
     "text": [
      "hello jupyter\n"
     ]
    }
   ],
   "source": [
    "print(\"hello jupyter\")"
   ]
  },
  {
   "cell_type": "code",
   "execution_count": 2,
   "id": "2bc3041f-6f75-4b11-a4b1-7d5761654236",
   "metadata": {},
   "outputs": [],
   "source": [
    "from pymilvus import connections, utility"
   ]
  },
  {
   "cell_type": "code",
   "execution_count": null,
   "id": "ab3f30b8-40f8-47ea-b325-6d3552a6231e",
   "metadata": {},
   "outputs": [],
   "source": [
    "# connections.connect(\n",
    "#     alias=\"default\",\n",
    "#     user=\"username\",\n",
    "#     password=\"password\",\n",
    "#     host=\"localhost\",\n",
    "#     port=\"19530 (default grpc port, used to connect with SDKs) / 9091 (restful Apis)\"\n",
    "# )"
   ]
  },
  {
   "cell_type": "code",
   "execution_count": 5,
   "id": "1c1beda7-5454-4687-9353-2f89bbe16a72",
   "metadata": {},
   "outputs": [],
   "source": [
    "connections.connect (\n",
    "    alias='default',\n",
    "    host='localhost',\n",
    "    port='19530'\n",
    ")"
   ]
  },
  {
   "cell_type": "code",
   "execution_count": 6,
   "id": "425ecb32-dd8b-4a4e-a889-8c8c0e699fda",
   "metadata": {},
   "outputs": [
    {
     "data": {
      "text/plain": [
       "[]"
      ]
     },
     "execution_count": 6,
     "metadata": {},
     "output_type": "execute_result"
    }
   ],
   "source": [
    "utility.list_collections()"
   ]
  },
  {
   "cell_type": "code",
   "execution_count": null,
   "id": "4cad40ac-c8e8-4298-92bb-109bfecae423",
   "metadata": {},
   "outputs": [],
   "source": []
  }
 ],
 "metadata": {
  "kernelspec": {
   "display_name": "Python 3 (ipykernel)",
   "language": "python",
   "name": "python3"
  },
  "language_info": {
   "codemirror_mode": {
    "name": "ipython",
    "version": 3
   },
   "file_extension": ".py",
   "mimetype": "text/x-python",
   "name": "python",
   "nbconvert_exporter": "python",
   "pygments_lexer": "ipython3",
   "version": "3.9.18"
  }
 },
 "nbformat": 4,
 "nbformat_minor": 5
}

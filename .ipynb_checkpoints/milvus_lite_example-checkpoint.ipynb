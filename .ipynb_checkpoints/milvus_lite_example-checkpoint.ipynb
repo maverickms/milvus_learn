{
 "cells": [
  {
   "cell_type": "code",
   "execution_count": 2,
   "id": "4562cb45-e453-4677-b11a-4407c8562bfb",
   "metadata": {},
   "outputs": [
    {
     "name": "stdout",
     "output_type": "stream",
     "text": [
      "Collecting milvus\n",
      "  Downloading milvus-2.3.5-py3-none-manylinux2014_x86_64.whl.metadata (6.7 kB)\n",
      "Downloading milvus-2.3.5-py3-none-manylinux2014_x86_64.whl (57.7 MB)\n",
      "\u001b[2K   \u001b[90m━━━━━━━━━━━━━━━━━━━━━━━━━━━━━━━━━━━━━━━━\u001b[0m \u001b[32m57.7/57.7 MB\u001b[0m \u001b[31m10.7 MB/s\u001b[0m eta \u001b[36m0:00:00\u001b[0m00:01\u001b[0m00:01\u001b[0m\n",
      "\u001b[?25hInstalling collected packages: milvus\n",
      "Successfully installed milvus-2.3.5\n"
     ]
    }
   ],
   "source": [
    "!pip3 install milvus\n",
    "from milvus import default_server\n",
    "from pymilvus import connections, utility"
   ]
  },
  {
   "cell_type": "code",
   "execution_count": 3,
   "id": "44a13ae3-6886-4cb6-8743-82a35c79a3ba",
   "metadata": {},
   "outputs": [],
   "source": [
    "# start the server\n",
    "default_server.start()\n",
    "\n",
    "# connect to the milvus lite server using pymilvus \n",
    "connections.connect (\n",
    "    host='127.0.0.1',\n",
    "    port=default_server.listen_port\n",
    ")   "
   ]
  },
  {
   "cell_type": "code",
   "execution_count": 4,
   "id": "d56eeb49-2086-4d9e-a2c3-3298acfde1b5",
   "metadata": {},
   "outputs": [
    {
     "name": "stdout",
     "output_type": "stream",
     "text": [
      "v2.3.5-lite\n"
     ]
    }
   ],
   "source": [
    "print(utility.get_server_version())"
   ]
  },
  {
   "cell_type": "code",
   "execution_count": 5,
   "id": "e573df85-1412-4ad7-b76a-31a7496b483d",
   "metadata": {},
   "outputs": [
    {
     "name": "stdout",
     "output_type": "stream",
     "text": [
      "[]\n"
     ]
    }
   ],
   "source": [
    "print(utility.list_collections())"
   ]
  },
  {
   "cell_type": "code",
   "execution_count": 6,
   "id": "b98519f6-61a0-4048-bdab-a8a4c31c5568",
   "metadata": {},
   "outputs": [],
   "source": [
    "default_server.stop()"
   ]
  },
  {
   "cell_type": "code",
   "execution_count": 7,
   "id": "7ec40597-12ec-4777-93cf-b55af39ffadf",
   "metadata": {},
   "outputs": [],
   "source": [
    "default_server.cleanup()"
   ]
  },
  {
   "cell_type": "code",
   "execution_count": null,
   "id": "bb0eb811-589b-441c-a939-7971337e8c9c",
   "metadata": {},
   "outputs": [],
   "source": []
  }
 ],
 "metadata": {
  "kernelspec": {
   "display_name": "Python 3 (ipykernel)",
   "language": "python",
   "name": "python3"
  },
  "language_info": {
   "codemirror_mode": {
    "name": "ipython",
    "version": 3
   },
   "file_extension": ".py",
   "mimetype": "text/x-python",
   "name": "python",
   "nbconvert_exporter": "python",
   "pygments_lexer": "ipython3",
   "version": "3.9.18"
  }
 },
 "nbformat": 4,
 "nbformat_minor": 5
}

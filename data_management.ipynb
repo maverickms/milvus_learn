{
 "cells": [
  {
   "cell_type": "code",
   "execution_count": 2,
   "id": "78bd1c35-d71b-42e9-8152-acecbf0d02b2",
   "metadata": {},
   "outputs": [],
   "source": [
    "from pymilvus import Collection, FieldSchema, CollectionSchema, DataType, connections, utility\n",
    "import string\n",
    "import random"
   ]
  },
  {
   "cell_type": "code",
   "execution_count": 3,
   "id": "df4be5ca-527e-4219-8332-c12b7c267a09",
   "metadata": {},
   "outputs": [],
   "source": [
    "connections.connect(\n",
    "    alias='default',\n",
    "    host='localhost',\n",
    "    port='19530'\n",
    ")"
   ]
  },
  {
   "cell_type": "code",
   "execution_count": 4,
   "id": "49bdc1f6-9407-4950-9291-5462362093f0",
   "metadata": {},
   "outputs": [
    {
     "data": {
      "text/plain": [
       "['Album1']"
      ]
     },
     "execution_count": 4,
     "metadata": {},
     "output_type": "execute_result"
    }
   ],
   "source": [
    "collection = Collection('Album1')\n",
    "utility.list_collections()"
   ]
  },
  {
   "cell_type": "code",
   "execution_count": 24,
   "id": "521870a6-ddf2-4501-b9fa-25343bdfac5e",
   "metadata": {},
   "outputs": [
    {
     "name": "stdout",
     "output_type": "stream",
     "text": [
      "[['AKIKHIJ', 'NEHMBWJ', 'NUADGOU', 'THKQVHK', 'QGJNNKP'], [0, 1, 2, 3, 4], [1863, 61896, 44436, 33574, 96680], [[0.78450972647795, 0.8563888868965316], [0.9573750268197316, 0.17574204055196951], [0.3398685646136007, 0.23522475678764265], [0.6078643366837209, 0.4717629637285834], [0.7107377557559263, 0.1863459724684151]]]\n"
     ]
    }
   ],
   "source": [
    "## prepare the data to be inserted\n",
    "\n",
    "num_entries = 5\n",
    "data = [\n",
    "    [''.join(random.choices(string.ascii_uppercase, k=7)) for i in range(num_entries)], # song name\n",
    "    [i for i in range(num_entries)], # song id\n",
    "    [random.randint(0, 100000) for i in range(num_entries)], # listen count\n",
    "    [[random.random() for _ in range(2)] for _ in range(num_entries)] # song vecor - 2d vector\n",
    "]\n",
    "print(data)"
   ]
  },
  {
   "cell_type": "code",
   "execution_count": 25,
   "id": "631ae277-0cc0-4712-93de-f6d2b6e94cc8",
   "metadata": {},
   "outputs": [],
   "source": [
    "# insert data in collection\n",
    "data_insert = collection.insert(data)"
   ]
  },
  {
   "cell_type": "code",
   "execution_count": 26,
   "id": "7fb59ef5-6173-4e3e-825b-a316a1614a0e",
   "metadata": {},
   "outputs": [
    {
     "data": {
      "text/plain": [
       "(insert count: 0, delete count: 2, upsert count: 0, timestamp: 448581371369095169, success count: 0, err count: 0)"
      ]
     },
     "execution_count": 26,
     "metadata": {},
     "output_type": "execute_result"
    }
   ],
   "source": [
    "# delete data from collection\n",
    "\n",
    "expr = \"song_id in [0, 20]\"\n",
    "collection.delete(expr)"
   ]
  },
  {
   "cell_type": "markdown",
   "id": "3c06dadd-ac87-4882-8647-f5ff0335da16",
   "metadata": {},
   "source": [
    "Segments will be automatically compacted by default. Compaction is the process of merging small segments into larger ones and clean up logically deleted data from segments. \n",
    "\n",
    "Can be compacted using compact() method of the collection object."
   ]
  },
  {
   "cell_type": "code",
   "execution_count": 27,
   "id": "70262d1c-be01-4f8b-ac38-c066c0779ed2",
   "metadata": {},
   "outputs": [],
   "source": [
    "# Compact collection\n",
    "\n",
    "collection.compact()"
   ]
  },
  {
   "cell_type": "code",
   "execution_count": null,
   "id": "7c5d1967-ac10-43e4-b73d-26cd81997410",
   "metadata": {},
   "outputs": [],
   "source": []
  }
 ],
 "metadata": {
  "kernelspec": {
   "display_name": "Python 3 (ipykernel)",
   "language": "python",
   "name": "python3"
  },
  "language_info": {
   "codemirror_mode": {
    "name": "ipython",
    "version": 3
   },
   "file_extension": ".py",
   "mimetype": "text/x-python",
   "name": "python",
   "nbconvert_exporter": "python",
   "pygments_lexer": "ipython3",
   "version": "3.9.18"
  }
 },
 "nbformat": 4,
 "nbformat_minor": 5
}

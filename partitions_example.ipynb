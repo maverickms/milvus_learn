{
 "cells": [
  {
   "cell_type": "code",
   "execution_count": 1,
   "id": "d7331713-3e50-49a0-8a78-a23de298637b",
   "metadata": {},
   "outputs": [],
   "source": [
    "from pymilvus import Collection, FieldSchema, CollectionSchema, DataType, connections, utility"
   ]
  },
  {
   "cell_type": "code",
   "execution_count": 2,
   "id": "31103632-a66d-4987-8b3a-112f6ed9d007",
   "metadata": {},
   "outputs": [],
   "source": [
    "connections.connect (\n",
    "    alias='default',\n",
    "    host='localhost',\n",
    "    port='19530'\n",
    ")"
   ]
  },
  {
   "cell_type": "code",
   "execution_count": 3,
   "id": "ba77e0b6-7eda-4aae-ac06-ad79604ed1ea",
   "metadata": {},
   "outputs": [],
   "source": [
    "song_name = FieldSchema (\n",
    "    name=\"song_name\",\n",
    "    dtype=DataType.VARCHAR,\n",
    "    max_length=200\n",
    ")\n",
    "song_id = FieldSchema(\n",
    "    name=\"song_id\",\n",
    "    dtype=DataType.INT64,\n",
    "    is_primary=True\n",
    ")\n",
    "listen_count = FieldSchema(\n",
    "    name=\"listen_count\",\n",
    "    dtype=DataType.INT64\n",
    ")\n",
    "song_vec = FieldSchema(\n",
    "    name=\"song_vec\",\n",
    "    dtype=DataType.FLOAT_VECTOR,\n",
    "    dim=2\n",
    ")"
   ]
  },
  {
   "cell_type": "code",
   "execution_count": 5,
   "id": "85d0fe67-b906-49b7-b276-84e2011559fd",
   "metadata": {},
   "outputs": [],
   "source": [
    "collection_schema = CollectionSchema(\n",
    "    fields=[song_name, song_id, listen_count, song_vec],\n",
    "    description=\"Album Songs\"\n",
    ")"
   ]
  },
  {
   "cell_type": "code",
   "execution_count": 6,
   "id": "9bb098a6-dad8-47f7-af0d-9400c8af0997",
   "metadata": {},
   "outputs": [
    {
     "data": {
      "text/plain": [
       "['Album1']"
      ]
     },
     "execution_count": 6,
     "metadata": {},
     "output_type": "execute_result"
    }
   ],
   "source": [
    "collection = Collection (\n",
    "    name=\"Album1\",\n",
    "    schema=collection_schema,\n",
    "    using='default'\n",
    ")\n",
    "utility.list_collections()"
   ]
  },
  {
   "cell_type": "code",
   "execution_count": 7,
   "id": "939f0aef-1a7e-4171-805c-d990b88a4059",
   "metadata": {},
   "outputs": [
    {
     "data": {
      "text/plain": [
       "True"
      ]
     },
     "execution_count": 7,
     "metadata": {},
     "output_type": "execute_result"
    }
   ],
   "source": [
    "# Create partitions\n",
    "\n",
    "collection.create_partition(\"Disc1\")\n",
    "collection.has_partition(\"Disc1\")"
   ]
  },
  {
   "cell_type": "code",
   "execution_count": 8,
   "id": "ebc402a2-2df9-4920-8393-e3b957526e47",
   "metadata": {},
   "outputs": [
    {
     "data": {
      "text/plain": [
       "True"
      ]
     },
     "execution_count": 8,
     "metadata": {},
     "output_type": "execute_result"
    }
   ],
   "source": [
    "collection.create_partition(\"Disc2\")\n",
    "collection.has_partition(\"Disc2\")"
   ]
  },
  {
   "cell_type": "code",
   "execution_count": 9,
   "id": "c726b4c2-847d-4361-b2a5-3f3fe4ee6318",
   "metadata": {},
   "outputs": [
    {
     "data": {
      "text/plain": [
       "False"
      ]
     },
     "execution_count": 9,
     "metadata": {},
     "output_type": "execute_result"
    }
   ],
   "source": [
    "collection.drop_partition(\"Disc2\")\n",
    "collection.has_partition(\"Disc2\")"
   ]
  },
  {
   "cell_type": "code",
   "execution_count": null,
   "id": "863dd8b9-2c72-4737-b601-70190c848f9c",
   "metadata": {},
   "outputs": [],
   "source": []
  }
 ],
 "metadata": {
  "kernelspec": {
   "display_name": "Python 3 (ipykernel)",
   "language": "python",
   "name": "python3"
  },
  "language_info": {
   "codemirror_mode": {
    "name": "ipython",
    "version": 3
   },
   "file_extension": ".py",
   "mimetype": "text/x-python",
   "name": "python",
   "nbconvert_exporter": "python",
   "pygments_lexer": "ipython3",
   "version": "3.9.18"
  }
 },
 "nbformat": 4,
 "nbformat_minor": 5
}

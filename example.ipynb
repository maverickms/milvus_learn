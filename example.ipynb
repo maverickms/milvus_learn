{
 "cells": [
  {
   "cell_type": "code",
   "execution_count": 1,
   "id": "34e70f0d-b3a0-4387-b213-cb44775613ac",
   "metadata": {
    "collapsed": true,
    "jupyter": {
     "outputs_hidden": true
    }
   },
   "outputs": [
    {
     "name": "stdout",
     "output_type": "stream",
     "text": [
      "Collecting tensorflow\n",
      "  Downloading tensorflow-2.16.1-cp39-cp39-manylinux_2_17_x86_64.manylinux2014_x86_64.whl.metadata (4.3 kB)\n",
      "Collecting tensorflow-hub\n",
      "  Downloading tensorflow_hub-0.16.1-py2.py3-none-any.whl.metadata (1.3 kB)\n",
      "Requirement already satisfied: numpy in /home/maverick/miniconda3/envs/milvus-env/lib/python3.9/site-packages (1.26.4)\n",
      "Collecting absl-py>=1.0.0 (from tensorflow)\n",
      "  Downloading absl_py-2.1.0-py3-none-any.whl.metadata (2.3 kB)\n",
      "Collecting astunparse>=1.6.0 (from tensorflow)\n",
      "  Downloading astunparse-1.6.3-py2.py3-none-any.whl.metadata (4.4 kB)\n",
      "Collecting flatbuffers>=23.5.26 (from tensorflow)\n",
      "  Downloading flatbuffers-24.3.7-py2.py3-none-any.whl.metadata (849 bytes)\n",
      "Collecting gast!=0.5.0,!=0.5.1,!=0.5.2,>=0.2.1 (from tensorflow)\n",
      "  Downloading gast-0.5.4-py3-none-any.whl.metadata (1.3 kB)\n",
      "Collecting google-pasta>=0.1.1 (from tensorflow)\n",
      "  Downloading google_pasta-0.2.0-py3-none-any.whl.metadata (814 bytes)\n",
      "Collecting h5py>=3.10.0 (from tensorflow)\n",
      "  Downloading h5py-3.10.0-cp39-cp39-manylinux_2_17_x86_64.manylinux2014_x86_64.whl.metadata (2.5 kB)\n",
      "Collecting libclang>=13.0.0 (from tensorflow)\n",
      "  Downloading libclang-18.1.1-py2.py3-none-manylinux2010_x86_64.whl.metadata (5.2 kB)\n",
      "Collecting ml-dtypes~=0.3.1 (from tensorflow)\n",
      "  Downloading ml_dtypes-0.3.2-cp39-cp39-manylinux_2_17_x86_64.manylinux2014_x86_64.whl.metadata (20 kB)\n",
      "Collecting opt-einsum>=2.3.2 (from tensorflow)\n",
      "  Downloading opt_einsum-3.3.0-py3-none-any.whl.metadata (6.5 kB)\n",
      "Requirement already satisfied: packaging in /home/maverick/miniconda3/envs/milvus-env/lib/python3.9/site-packages (from tensorflow) (24.0)\n",
      "Requirement already satisfied: protobuf!=4.21.0,!=4.21.1,!=4.21.2,!=4.21.3,!=4.21.4,!=4.21.5,<5.0.0dev,>=3.20.3 in /home/maverick/miniconda3/envs/milvus-env/lib/python3.9/site-packages (from tensorflow) (4.25.3)\n",
      "Requirement already satisfied: requests<3,>=2.21.0 in /home/maverick/miniconda3/envs/milvus-env/lib/python3.9/site-packages (from tensorflow) (2.31.0)\n",
      "Requirement already satisfied: setuptools in /home/maverick/miniconda3/envs/milvus-env/lib/python3.9/site-packages (from tensorflow) (68.2.2)\n",
      "Requirement already satisfied: six>=1.12.0 in /home/maverick/miniconda3/envs/milvus-env/lib/python3.9/site-packages (from tensorflow) (1.16.0)\n",
      "Collecting termcolor>=1.1.0 (from tensorflow)\n",
      "  Downloading termcolor-2.4.0-py3-none-any.whl.metadata (6.1 kB)\n",
      "Requirement already satisfied: typing-extensions>=3.6.6 in /home/maverick/miniconda3/envs/milvus-env/lib/python3.9/site-packages (from tensorflow) (4.10.0)\n",
      "Collecting wrapt>=1.11.0 (from tensorflow)\n",
      "  Downloading wrapt-1.16.0-cp39-cp39-manylinux_2_5_x86_64.manylinux1_x86_64.manylinux_2_17_x86_64.manylinux2014_x86_64.whl.metadata (6.6 kB)\n",
      "Requirement already satisfied: grpcio<2.0,>=1.24.3 in /home/maverick/miniconda3/envs/milvus-env/lib/python3.9/site-packages (from tensorflow) (1.53.0)\n",
      "Collecting tensorboard<2.17,>=2.16 (from tensorflow)\n",
      "  Downloading tensorboard-2.16.2-py3-none-any.whl.metadata (1.6 kB)\n",
      "Collecting keras>=3.0.0 (from tensorflow)\n",
      "  Downloading keras-3.1.1-py3-none-any.whl.metadata (5.6 kB)\n",
      "Collecting tensorflow-io-gcs-filesystem>=0.23.1 (from tensorflow)\n",
      "  Downloading tensorflow_io_gcs_filesystem-0.36.0-cp39-cp39-manylinux_2_17_x86_64.manylinux2014_x86_64.whl.metadata (14 kB)\n",
      "Collecting tf-keras>=2.14.1 (from tensorflow-hub)\n",
      "  Downloading tf_keras-2.16.0-py3-none-any.whl.metadata (1.6 kB)\n",
      "Requirement already satisfied: wheel<1.0,>=0.23.0 in /home/maverick/miniconda3/envs/milvus-env/lib/python3.9/site-packages (from astunparse>=1.6.0->tensorflow) (0.41.2)\n",
      "Collecting rich (from keras>=3.0.0->tensorflow)\n",
      "  Downloading rich-13.7.1-py3-none-any.whl.metadata (18 kB)\n",
      "Collecting namex (from keras>=3.0.0->tensorflow)\n",
      "  Downloading namex-0.0.7-py3-none-any.whl.metadata (246 bytes)\n",
      "Collecting optree (from keras>=3.0.0->tensorflow)\n",
      "  Downloading optree-0.10.0-cp39-cp39-manylinux_2_17_x86_64.manylinux2014_x86_64.whl.metadata (45 kB)\n",
      "\u001b[2K     \u001b[90m━━━━━━━━━━━━━━━━━━━━━━━━━━━━━━━━━━━━━━━━\u001b[0m \u001b[32m45.3/45.3 kB\u001b[0m \u001b[31m2.1 MB/s\u001b[0m eta \u001b[36m0:00:00\u001b[0m\n",
      "\u001b[?25hRequirement already satisfied: charset-normalizer<4,>=2 in /home/maverick/miniconda3/envs/milvus-env/lib/python3.9/site-packages (from requests<3,>=2.21.0->tensorflow) (3.3.2)\n",
      "Requirement already satisfied: idna<4,>=2.5 in /home/maverick/miniconda3/envs/milvus-env/lib/python3.9/site-packages (from requests<3,>=2.21.0->tensorflow) (3.6)\n",
      "Requirement already satisfied: urllib3<3,>=1.21.1 in /home/maverick/miniconda3/envs/milvus-env/lib/python3.9/site-packages (from requests<3,>=2.21.0->tensorflow) (2.2.1)\n",
      "Requirement already satisfied: certifi>=2017.4.17 in /home/maverick/miniconda3/envs/milvus-env/lib/python3.9/site-packages (from requests<3,>=2.21.0->tensorflow) (2024.2.2)\n",
      "Collecting markdown>=2.6.8 (from tensorboard<2.17,>=2.16->tensorflow)\n",
      "  Downloading Markdown-3.6-py3-none-any.whl.metadata (7.0 kB)\n",
      "Collecting tensorboard-data-server<0.8.0,>=0.7.0 (from tensorboard<2.17,>=2.16->tensorflow)\n",
      "  Downloading tensorboard_data_server-0.7.2-py3-none-manylinux_2_31_x86_64.whl.metadata (1.1 kB)\n",
      "Collecting werkzeug>=1.0.1 (from tensorboard<2.17,>=2.16->tensorflow)\n",
      "  Downloading werkzeug-3.0.1-py3-none-any.whl.metadata (4.1 kB)\n",
      "Requirement already satisfied: importlib-metadata>=4.4 in /home/maverick/miniconda3/envs/milvus-env/lib/python3.9/site-packages (from markdown>=2.6.8->tensorboard<2.17,>=2.16->tensorflow) (7.0.2)\n",
      "Requirement already satisfied: MarkupSafe>=2.1.1 in /home/maverick/miniconda3/envs/milvus-env/lib/python3.9/site-packages (from werkzeug>=1.0.1->tensorboard<2.17,>=2.16->tensorflow) (2.1.5)\n",
      "Collecting markdown-it-py>=2.2.0 (from rich->keras>=3.0.0->tensorflow)\n",
      "  Downloading markdown_it_py-3.0.0-py3-none-any.whl.metadata (6.9 kB)\n",
      "Requirement already satisfied: pygments<3.0.0,>=2.13.0 in /home/maverick/miniconda3/envs/milvus-env/lib/python3.9/site-packages (from rich->keras>=3.0.0->tensorflow) (2.17.2)\n",
      "Requirement already satisfied: zipp>=0.5 in /home/maverick/miniconda3/envs/milvus-env/lib/python3.9/site-packages (from importlib-metadata>=4.4->markdown>=2.6.8->tensorboard<2.17,>=2.16->tensorflow) (3.18.1)\n",
      "Collecting mdurl~=0.1 (from markdown-it-py>=2.2.0->rich->keras>=3.0.0->tensorflow)\n",
      "  Downloading mdurl-0.1.2-py3-none-any.whl.metadata (1.6 kB)\n",
      "Downloading tensorflow-2.16.1-cp39-cp39-manylinux_2_17_x86_64.manylinux2014_x86_64.whl (589.8 MB)\n",
      "\u001b[2K   \u001b[90m━━━━━━━━━━━━━━━━━━━━━━━━━━━━━━━━━━━━━━━━\u001b[0m \u001b[32m589.8/589.8 MB\u001b[0m \u001b[31m1.6 MB/s\u001b[0m eta \u001b[36m0:00:00\u001b[0m00:01\u001b[0m00:03\u001b[0mm\n",
      "\u001b[?25hDownloading tensorflow_hub-0.16.1-py2.py3-none-any.whl (30 kB)\n",
      "Downloading absl_py-2.1.0-py3-none-any.whl (133 kB)\n",
      "\u001b[2K   \u001b[90m━━━━━━━━━━━━━━━━━━━━━━━━━━━━━━━━━━━━━━━━\u001b[0m \u001b[32m133.7/133.7 kB\u001b[0m \u001b[31m3.4 MB/s\u001b[0m eta \u001b[36m0:00:00\u001b[0m00:01\u001b[0m\n",
      "\u001b[?25hDownloading astunparse-1.6.3-py2.py3-none-any.whl (12 kB)\n",
      "Downloading flatbuffers-24.3.7-py2.py3-none-any.whl (26 kB)\n",
      "Downloading gast-0.5.4-py3-none-any.whl (19 kB)\n",
      "Downloading google_pasta-0.2.0-py3-none-any.whl (57 kB)\n",
      "\u001b[2K   \u001b[90m━━━━━━━━━━━━━━━━━━━━━━━━━━━━━━━━━━━━━━━━\u001b[0m \u001b[32m57.5/57.5 kB\u001b[0m \u001b[31m4.1 MB/s\u001b[0m eta \u001b[36m0:00:00\u001b[0m\n",
      "\u001b[?25hDownloading h5py-3.10.0-cp39-cp39-manylinux_2_17_x86_64.manylinux2014_x86_64.whl (4.8 MB)\n",
      "\u001b[2K   \u001b[90m━━━━━━━━━━━━━━━━━━━━━━━━━━━━━━━━━━━━━━━━\u001b[0m \u001b[32m4.8/4.8 MB\u001b[0m \u001b[31m983.1 kB/s\u001b[0m eta \u001b[36m0:00:00\u001b[0m00:01\u001b[0m00:01\u001b[0m\n",
      "\u001b[?25hDownloading keras-3.1.1-py3-none-any.whl (1.1 MB)\n",
      "\u001b[2K   \u001b[90m━━━━━━━━━━━━━━━━━━━━━━━━━━━━━━━━━━━━━━━━\u001b[0m \u001b[32m1.1/1.1 MB\u001b[0m \u001b[31m1.3 MB/s\u001b[0m eta \u001b[36m0:00:00\u001b[0ma \u001b[36m0:00:01\u001b[0m0m\n",
      "\u001b[?25hDownloading libclang-18.1.1-py2.py3-none-manylinux2010_x86_64.whl (24.5 MB)\n",
      "\u001b[2K   \u001b[90m━━━━━━━━━━━━━━━━━━━━━━━━━━━━━━━━━━━━━━━━\u001b[0m \u001b[32m24.5/24.5 MB\u001b[0m \u001b[31m10.4 MB/s\u001b[0m eta \u001b[36m0:00:00\u001b[0m00:01\u001b[0m00:01\u001b[0m\n",
      "\u001b[?25hDownloading ml_dtypes-0.3.2-cp39-cp39-manylinux_2_17_x86_64.manylinux2014_x86_64.whl (2.2 MB)\n",
      "\u001b[2K   \u001b[90m━━━━━━━━━━━━━━━━━━━━━━━━━━━━━━━━━━━━━━━━\u001b[0m \u001b[32m2.2/2.2 MB\u001b[0m \u001b[31m9.4 MB/s\u001b[0m eta \u001b[36m0:00:00\u001b[0m:00:01\u001b[0m00:01\u001b[0m\n",
      "\u001b[?25hDownloading opt_einsum-3.3.0-py3-none-any.whl (65 kB)\n",
      "\u001b[2K   \u001b[90m━━━━━━━━━━━━━━━━━━━━━━━━━━━━━━━━━━━━━━━━\u001b[0m \u001b[32m65.5/65.5 kB\u001b[0m \u001b[31m2.7 MB/s\u001b[0m eta \u001b[36m0:00:00\u001b[0m\n",
      "\u001b[?25hDownloading tensorboard-2.16.2-py3-none-any.whl (5.5 MB)\n",
      "\u001b[2K   \u001b[90m━━━━━━━━━━━━━━━━━━━━━━━━━━━━━━━━━━━━━━━━\u001b[0m \u001b[32m5.5/5.5 MB\u001b[0m \u001b[31m10.6 MB/s\u001b[0m eta \u001b[36m0:00:00\u001b[0m00:01\u001b[0m00:01\u001b[0m\n",
      "\u001b[?25hDownloading tensorflow_io_gcs_filesystem-0.36.0-cp39-cp39-manylinux_2_17_x86_64.manylinux2014_x86_64.whl (5.1 MB)\n",
      "\u001b[2K   \u001b[90m━━━━━━━━━━━━━━━━━━━━━━━━━━━━━━━━━━━━━━━━\u001b[0m \u001b[32m5.1/5.1 MB\u001b[0m \u001b[31m8.7 MB/s\u001b[0m eta \u001b[36m0:00:00\u001b[0m00:01\u001b[0m00:01\u001b[0mm\n",
      "\u001b[?25hDownloading termcolor-2.4.0-py3-none-any.whl (7.7 kB)\n",
      "Downloading tf_keras-2.16.0-py3-none-any.whl (1.7 MB)\n",
      "\u001b[2K   \u001b[90m━━━━━━━━━━━━━━━━━━━━━━━━━━━━━━━━━━━━━━━━\u001b[0m \u001b[32m1.7/1.7 MB\u001b[0m \u001b[31m8.2 MB/s\u001b[0m eta \u001b[36m0:00:00\u001b[0ma \u001b[36m0:00:01\u001b[0m\n",
      "\u001b[?25hDownloading wrapt-1.16.0-cp39-cp39-manylinux_2_5_x86_64.manylinux1_x86_64.manylinux_2_17_x86_64.manylinux2014_x86_64.whl (80 kB)\n",
      "\u001b[2K   \u001b[90m━━━━━━━━━━━━━━━━━━━━━━━━━━━━━━━━━━━━━━━━\u001b[0m \u001b[32m80.1/80.1 kB\u001b[0m \u001b[31m6.4 MB/s\u001b[0m eta \u001b[36m0:00:00\u001b[0m\n",
      "\u001b[?25hDownloading Markdown-3.6-py3-none-any.whl (105 kB)\n",
      "\u001b[2K   \u001b[90m━━━━━━━━━━━━━━━━━━━━━━━━━━━━━━━━━━━━━━━━\u001b[0m \u001b[32m105.4/105.4 kB\u001b[0m \u001b[31m3.6 MB/s\u001b[0m eta \u001b[36m0:00:00\u001b[0m\n",
      "\u001b[?25hDownloading tensorboard_data_server-0.7.2-py3-none-manylinux_2_31_x86_64.whl (6.6 MB)\n",
      "\u001b[2K   \u001b[90m━━━━━━━━━━━━━━━━━━━━━━━━━━━━━━━━━━━━━━━━\u001b[0m \u001b[32m6.6/6.6 MB\u001b[0m \u001b[31m10.2 MB/s\u001b[0m eta \u001b[36m0:00:00\u001b[0m00:01\u001b[0m00:01\u001b[0m\n",
      "\u001b[?25hDownloading werkzeug-3.0.1-py3-none-any.whl (226 kB)\n",
      "\u001b[2K   \u001b[90m━━━━━━━━━━━━━━━━━━━━━━━━━━━━━━━━━━━━━━━━\u001b[0m \u001b[32m226.7/226.7 kB\u001b[0m \u001b[31m6.9 MB/s\u001b[0m eta \u001b[36m0:00:00\u001b[0m\n",
      "\u001b[?25hDownloading namex-0.0.7-py3-none-any.whl (5.8 kB)\n",
      "Downloading optree-0.10.0-cp39-cp39-manylinux_2_17_x86_64.manylinux2014_x86_64.whl (287 kB)\n",
      "\u001b[2K   \u001b[90m━━━━━━━━━━━━━━━━━━━━━━━━━━━━━━━━━━━━━━━━\u001b[0m \u001b[32m287.0/287.0 kB\u001b[0m \u001b[31m6.8 MB/s\u001b[0m eta \u001b[36m0:00:00\u001b[0m00:01\u001b[0m\n",
      "\u001b[?25hDownloading rich-13.7.1-py3-none-any.whl (240 kB)\n",
      "\u001b[2K   \u001b[90m━━━━━━━━━━━━━━━━━━━━━━━━━━━━━━━━━━━━━━━━\u001b[0m \u001b[32m240.7/240.7 kB\u001b[0m \u001b[31m4.4 MB/s\u001b[0m eta \u001b[36m0:00:00\u001b[0m00:01\u001b[0m\n",
      "\u001b[?25hDownloading markdown_it_py-3.0.0-py3-none-any.whl (87 kB)\n",
      "\u001b[2K   \u001b[90m━━━━━━━━━━━━━━━━━━━━━━━━━━━━━━━━━━━━━━━━\u001b[0m \u001b[32m87.5/87.5 kB\u001b[0m \u001b[31m2.9 MB/s\u001b[0m eta \u001b[36m0:00:00\u001b[0m\n",
      "\u001b[?25hDownloading mdurl-0.1.2-py3-none-any.whl (10.0 kB)\n",
      "Installing collected packages: namex, libclang, flatbuffers, wrapt, werkzeug, termcolor, tensorflow-io-gcs-filesystem, tensorboard-data-server, optree, opt-einsum, ml-dtypes, mdurl, h5py, google-pasta, gast, astunparse, absl-py, markdown-it-py, markdown, tensorboard, rich, keras, tensorflow, tf-keras, tensorflow-hub\n",
      "Successfully installed absl-py-2.1.0 astunparse-1.6.3 flatbuffers-24.3.7 gast-0.5.4 google-pasta-0.2.0 h5py-3.10.0 keras-3.1.1 libclang-18.1.1 markdown-3.6 markdown-it-py-3.0.0 mdurl-0.1.2 ml-dtypes-0.3.2 namex-0.0.7 opt-einsum-3.3.0 optree-0.10.0 rich-13.7.1 tensorboard-2.16.2 tensorboard-data-server-0.7.2 tensorflow-2.16.1 tensorflow-hub-0.16.1 tensorflow-io-gcs-filesystem-0.36.0 termcolor-2.4.0 tf-keras-2.16.0 werkzeug-3.0.1 wrapt-1.16.0\n"
     ]
    },
    {
     "name": "stderr",
     "output_type": "stream",
     "text": [
      "2024-03-23 10:13:42.763595: I external/local_tsl/tsl/cuda/cudart_stub.cc:32] Could not find cuda drivers on your machine, GPU will not be used.\n",
      "2024-03-23 10:13:42.803362: I external/local_tsl/tsl/cuda/cudart_stub.cc:32] Could not find cuda drivers on your machine, GPU will not be used.\n",
      "2024-03-23 10:13:42.868381: I tensorflow/core/platform/cpu_feature_guard.cc:210] This TensorFlow binary is optimized to use available CPU instructions in performance-critical operations.\n",
      "To enable the following instructions: AVX2 FMA, in other operations, rebuild TensorFlow with the appropriate compiler flags.\n",
      "2024-03-23 10:13:43.881645: W tensorflow/compiler/tf2tensorrt/utils/py_utils.cc:38] TF-TRT Warning: Could not find TensorRT\n"
     ]
    }
   ],
   "source": [
    "!pip3 install tensorflow tensorflow-hub numpy\n",
    "import os\n",
    "## to get the tensorflow model that can generate embeddings\n",
    "import tensorflow as tf \n",
    "import tensorflow_hub as hub\n",
    "import numpy as np\n",
    "import re\n",
    "from pymilvus import Collection, FieldSchema, CollectionSchema, DataType, connections, utility"
   ]
  },
  {
   "cell_type": "code",
   "execution_count": 2,
   "id": "ada42dc2-260f-43ac-ab92-3410ce1fe536",
   "metadata": {},
   "outputs": [
    {
     "name": "stderr",
     "output_type": "stream",
     "text": [
      "2024-03-23 10:15:10.340020: W external/local_tsl/tsl/framework/cpu_allocator_impl.cc:83] Allocation of 17067520 exceeds 10% of free system memory.\n",
      "2024-03-23 10:15:10.422171: W external/local_tsl/tsl/framework/cpu_allocator_impl.cc:83] Allocation of 17067520 exceeds 10% of free system memory.\n",
      "2024-03-23 10:15:10.442917: W external/local_tsl/tsl/framework/cpu_allocator_impl.cc:83] Allocation of 17067520 exceeds 10% of free system memory.\n",
      "2024-03-23 10:15:10.535477: W external/local_tsl/tsl/framework/cpu_allocator_impl.cc:83] Allocation of 17067520 exceeds 10% of free system memory.\n",
      "2024-03-23 10:15:10.610764: W external/local_tsl/tsl/framework/cpu_allocator_impl.cc:83] Allocation of 17067520 exceeds 10% of free system memory.\n"
     ]
    }
   ],
   "source": [
    "# Download the model from tensorflow hub and load it\n",
    "\n",
    "model_url = \"https://tfhub.dev/google/universal-sentence-encoder-large/5\" \n",
    "model = hub.load(model_url)"
   ]
  },
  {
   "cell_type": "code",
   "execution_count": 5,
   "id": "4749cefb-102b-4fbd-9e32-2a1ed4e67003",
   "metadata": {},
   "outputs": [],
   "source": [
    "# function to generate embeddings\n",
    "\n",
    "def embeddings(text):\n",
    "    return np.array(model(text)).flatten().tolist()"
   ]
  },
  {
   "cell_type": "code",
   "execution_count": 7,
   "id": "27682150-56eb-4c14-9095-3d029a898a49",
   "metadata": {},
   "outputs": [
    {
     "name": "stderr",
     "output_type": "stream",
     "text": [
      "IOPub data rate exceeded.\n",
      "The Jupyter server will temporarily stop sending output\n",
      "to the client in order to avoid crashing it.\n",
      "To change this limit, set the config variable\n",
      "`--ServerApp.iopub_data_rate_limit`.\n",
      "\n",
      "Current values:\n",
      "ServerApp.iopub_data_rate_limit=1000000.0 (bytes/sec)\n",
      "ServerApp.rate_limit_window=3.0 (secs)\n",
      "\n"
     ]
    }
   ],
   "source": [
    "# dataset downsloaded from https://archive.ics.uci.edu/dataset/228/sms+spam+collection\n",
    "# create embeddings from this dataset using universal-sentence-encoder model\n",
    "\n",
    "file_path = '../../SMSSpamCollection'\n",
    "\n",
    "with open(file_path) as file:\n",
    "    lines = [line for line in file]\n",
    "\n",
    "msgs = [x.split('\\t')[1].replace('\\n', '') for x in lines]\n",
    "emdbngs = [embeddings([x]) for x in msgs]\n",
    "indx = list(range(1, len(msgs) + 1))\n",
    "\n",
    "data_to_insert = [indx, msgs, emdbngs]\n",
    "print(data_to_insert)"
   ]
  },
  {
   "cell_type": "code",
   "execution_count": 8,
   "id": "bf3d6692-98ba-47ba-ad42-287f82bca884",
   "metadata": {},
   "outputs": [],
   "source": [
    "# connect to the milvus DB\n",
    "\n",
    "connections.connect (\n",
    "    alias=\"default\",\n",
    "    host=\"localhost\",\n",
    "    port=\"19530\"\n",
    ")"
   ]
  },
  {
   "cell_type": "code",
   "execution_count": 10,
   "id": "d6d50fe2-a86f-4e59-aec6-5a30f082291f",
   "metadata": {},
   "outputs": [
    {
     "data": {
      "text/plain": [
       "['Spam_test', 'Album1']"
      ]
     },
     "execution_count": 10,
     "metadata": {},
     "output_type": "execute_result"
    }
   ],
   "source": [
    "# Field schema\n",
    "\n",
    "id = FieldSchema (\n",
    "    name=\"id\",\n",
    "    dtype=DataType.INT64,\n",
    "    is_primary=True\n",
    ")\n",
    "message = FieldSchema (\n",
    "    name=\"message\",\n",
    "    dtype=DataType.VARCHAR,\n",
    "    max_length=6000\n",
    ")\n",
    "message_vec = FieldSchema (\n",
    "    name=\"message_embeddings\",\n",
    "    dtype=DataType.FLOAT_VECTOR,\n",
    "    dim=512\n",
    ")\n",
    "\n",
    "# collection schema \n",
    "collection_schema = CollectionSchema (\n",
    "    fields = [id, message, message_vec], \n",
    "    description = \"Spam SMS collection\"\n",
    ")\n",
    "\n",
    "# create the collection\n",
    "collection = Collection(\n",
    "    name = \"Spam_test\",\n",
    "    schema = collection_schema,\n",
    "    using = 'default'\n",
    ")\n",
    "utility.list_collections()"
   ]
  },
  {
   "cell_type": "code",
   "execution_count": 11,
   "id": "ab736976-181c-4f23-ab40-35878569848c",
   "metadata": {},
   "outputs": [],
   "source": [
    "# insert the data into the collection\n",
    "data_insert = collection.insert(data_to_insert)"
   ]
  },
  {
   "cell_type": "code",
   "execution_count": 12,
   "id": "f0625faf-340b-4b1c-b969-c2387a80e111",
   "metadata": {},
   "outputs": [
    {
     "data": {
      "text/plain": [
       "Status(code=0, message=)"
      ]
     },
     "execution_count": 12,
     "metadata": {},
     "output_type": "execute_result"
    }
   ],
   "source": [
    "# create a index \n",
    "index_params = {\n",
    "    \"metric_type\": \"L2\",\n",
    "    \"index_type\": \"IVF_FLAT\",\n",
    "    \"params\": {\"nlist\": 1024},\n",
    "    \"index_name\": \"SMS_IVF_FLAT_TEST\"\n",
    "}\n",
    "\n",
    "# index on vector field\n",
    "collection.create_index(\n",
    "    field_name=\"message_embeddings\",\n",
    "    index_params=index_params\n",
    ")"
   ]
  },
  {
   "cell_type": "code",
   "execution_count": 13,
   "id": "d290cf45-d1cf-4e20-bb11-684b62281dae",
   "metadata": {},
   "outputs": [],
   "source": [
    "# load the collection \n",
    "\n",
    "collection.load(replica_number=1)"
   ]
  },
  {
   "cell_type": "code",
   "execution_count": 15,
   "id": "fd440825-cd28-4c75-8e68-841a41a7789a",
   "metadata": {
    "collapsed": true,
    "jupyter": {
     "outputs_hidden": true
    }
   },
   "outputs": [
    {
     "name": "stdout",
     "output_type": "stream",
     "text": [
      "[-0.011389211751520634, 0.014453945681452751, 0.024593621492385864, -0.08115361630916595, -0.006290705408900976, 0.00481001939624548, -0.05537803843617439, 0.025565864518284798, 0.051037032157182693, -0.0425945408642292, -0.03323012590408325, 0.052700385451316833, 0.022196980193257332, -0.039344873279333115, -0.03152000904083252, 0.0038465263787657022, 0.006422499194741249, 0.00820589903742075, 0.048855677247047424, 0.004990494344383478, -0.025625674054026604, 0.030096912756562233, 0.07591116428375244, -0.03762837499380112, -0.04947966709733009, -0.05975998938083649, 0.016435811296105385, -0.06950008124113083, -0.0472797192633152, -0.050235748291015625, 0.03869849815964699, 0.08366387337446213, -0.019942717626690865, 0.05222108215093613, -0.06343661993741989, -0.02361924946308136, -0.07140384614467621, -0.001238416414707899, -0.030063655227422714, -0.00898596178740263, 0.03024415299296379, -0.05106920003890991, -0.051163990050554276, -0.04448031261563301, 0.06300392746925354, -0.07581344991922379, 0.04813726618885994, 0.08747665584087372, 0.09377796202898026, 0.056733712553977966, 0.057162005454301834, 0.02085670456290245, 0.004391545429825783, 0.021254276856780052, 0.04166119545698166, -0.012487774714827538, 0.06935413926839828, -0.007503506261855364, -0.024154014885425568, 0.07128187268972397, -0.017332494258880615, -0.06033789739012718, -0.04778487607836723, 0.027516167610883713, -0.012067478150129318, -0.015069221146404743, -0.027253897860646248, -0.05926080793142319, 0.023554610088467598, 0.00042520600254647434, 0.005686704069375992, 0.10822680592536926, 0.027988243848085403, 0.014804198406636715, 0.0680384561419487, 0.027027934789657593, 0.04405827075242996, 0.0264213178306818, 0.008568225428462029, -0.020940348505973816, 0.000518690561875701, 0.015085363760590553, 0.09023377299308777, -0.019084718078374863, -0.03948613256216049, -0.01846805401146412, -0.06447725743055344, -0.03635776787996292, 0.018354495987296104, -0.06495683640241623, -0.012045064009726048, -0.02598397061228752, -0.030055783689022064, -0.03286580368876457, -0.04423486068844795, -0.09852765500545502, 0.02803478017449379, 0.0030117686837911606, 0.0032927002757787704, -0.044948723167181015, -0.0009351698681712151, -0.03667716681957245, -0.053352806717157364, 0.04576995223760605, -0.03497352451086044, 0.04338525980710983, 0.01036496739834547, -0.06359772384166718, 0.0867147371172905, 0.0012841647258028388, -0.03796863928437233, 0.024223487824201584, -0.04300179332494736, -0.03196483850479126, -0.011262751184403896, -0.052874185144901276, 0.0286087729036808, 0.012806588783860207, 0.026393841952085495, -0.07612454891204834, 0.04303409904241562, 0.0395226813852787, -0.02756473980844021, -0.019898295402526855, -0.014441389590501785, 0.0771719366312027, -0.006027653813362122, 0.04995017498731613, -0.024766769260168076, -0.004647450055927038, -0.012020206078886986, 0.06917685270309448, -0.035322755575180054, -0.026329319924116135, -0.009108436293900013, 0.017065417021512985, 0.022465229034423828, -0.019985919818282127, -0.04030979797244072, 0.003812910057604313, -0.0017701273318380117, -0.08025342226028442, -0.01818235218524933, -0.0005517805693671107, -0.03603806719183922, 0.07466064393520355, 0.049881741404533386, -0.00852590799331665, 0.00472131697461009, -0.04789351671934128, -0.002940894104540348, 0.016629686579108238, -0.07419762760400772, -0.05619179084897041, -0.056388240307569504, 0.06533775478601456, -0.010459952987730503, 0.012439173646271229, 0.034812361001968384, 0.04517976939678192, -0.04098472744226456, -0.04888163134455681, 0.05090238153934479, 0.03603662922978401, 0.05365457758307457, 0.0720592811703682, 0.0099126435816288, -0.01008374523371458, 0.004832825157791376, -0.08596465736627579, 0.07400684058666229, 0.021199040114879608, -0.004103815648704767, 0.024959158152341843, 0.013337397016584873, -0.07037133723497391, 0.07152648270130157, 0.02562331035733223, -0.016345731914043427, -0.04152118042111397, -0.0016184599371626973, -0.054312266409397125, -0.04882081225514412, 0.029823172837495804, -0.055804863572120667, 0.0398232564330101, -0.03302929922938347, 0.005153032019734383, 0.028183644637465477, 0.08502461761236191, 0.013559847138822079, -0.07691152393817902, 0.04648219794034958, -0.020425204187631607, 0.08046898245811462, 0.08597714453935623, 0.004620752297341824, -0.003907454665750265, -0.01138867624104023, 0.019149383530020714, 0.013222654350101948, -0.03409109264612198, -0.012747502885758877, -0.03009197860956192, -0.05063828453421593, -0.035254091024398804, 0.011827665381133556, -0.030396871268749237, 0.05189217999577522, 0.018228238448500633, -0.08364177495241165, 0.04114377498626709, -0.018464896827936172, -0.0008636319544166327, 0.05496511980891228, -0.024309290573000908, -0.05831652134656906, -0.038935888558626175, -0.06527584791183472, 0.08496467769145966, -0.0010517374612390995, -0.014160879887640476, 0.023885460570454597, -0.045018330216407776, 0.0603063739836216, -0.06216380000114441, -0.013584796339273453, 0.17254392802715302, 0.020906316116452217, -0.011889833025634289, 0.01357034221291542, -0.06711997091770172, -0.07528422027826309, 0.05045333504676819, -0.05237829312682152, 0.057768721133470535, -0.012471175752580166, -0.08325827121734619, -0.008955354802310467, -0.06079034134745598, -0.0666651502251625, 0.0877498909831047, 0.09166742116212845, 0.025798877701163292, -0.029191482812166214, 0.07835546880960464, 0.0021885691676288843, -0.02033969946205616, 0.016443993896245956, -0.13386671245098114, -0.03708425909280777, 0.0023013856261968613, 0.0018430276541039348, -0.04212774708867073, -0.02068784087896347, -0.0038867443799972534, 0.025351768359541893, 0.01610552705824375, 0.008176993578672409, 0.01637648046016693, 0.06968218833208084, -0.013173439539968967, 0.026796430349349976, 0.0305570587515831, 0.029565274715423584, 0.005469484720379114, -0.05480533093214035, 0.006394143681973219, 0.06124773621559143, 0.03450631722807884, 0.029836729168891907, -0.08355581015348434, -0.01981058157980442, 0.03308839723467827, 0.019573001191020012, -0.0016811485402286053, 0.08493173122406006, 0.03714600205421448, -0.02279483526945114, -0.007014893926680088, -0.028066791594028473, 0.021959399804472923, 0.035066694021224976, -0.07136736065149307, -0.041490551084280014, -0.020099960267543793, -0.015124102123081684, -0.01647260971367359, 0.05961984395980835, -0.005141390021890402, -0.007021903060376644, -0.0011254990240558982, -0.02864055335521698, 0.001968855271115899, -0.002239112975075841, 0.05889983847737312, 0.08416672796010971, 0.06536891311407089, 0.010004045441746712, 0.020404979586601257, -0.05427385866641998, -0.033316630870103836, 0.008675843477249146, -0.0014004159020259976, -0.021802470088005066, 0.011147657409310341, 0.01695767045021057, 0.059192728251218796, -0.05111463740468025, 0.04253695532679558, 0.04141327738761902, 0.028151342645287514, 0.022506017237901688, -0.06257355213165283, 0.024653494358062744, 0.04148932546377182, -0.006997761782258749, 0.0071722883731126785, -0.0093715013936162, -0.04912704974412918, 0.021989410743117332, 0.01705482415854931, 0.005704404786229134, 0.05008864775300026, 0.1279609203338623, 0.002798677422106266, -0.03755921125411987, 0.0004682282160501927, 0.0372287854552269, 0.022710585966706276, 0.027268802747130394, -0.016881391406059265, 0.02732960321009159, 0.10979190468788147, 0.053874388337135315, -0.03371558338403702, 0.08142432570457458, -0.06029359996318817, -0.03979520499706268, 0.06972290575504303, 0.04068521037697792, -0.017216745764017105, 0.007964275777339935, -0.06125370040535927, 0.004975014366209507, -0.04134044051170349, -0.014846932142972946, -0.02846437133848667, -0.04406706243753433, 0.047113314270973206, 0.010520660318434238, 0.05617976561188698, 0.0020531367044895887, -0.013147074729204178, -0.06953692436218262, -0.023103635758161545, 0.051664888858795166, -0.031086547300219536, -0.001488077687099576, -0.07831183075904846, 0.030055535957217216, -0.01642722077667713, 0.008779219351708889, -0.008437907323241234, -0.003377406857907772, -0.03592358157038689, 0.05482306331396103, 0.010293576866388321, -0.08183714747428894, -0.014715728349983692, -0.03697660565376282, -0.021874450147151947, 0.027808284386992455, -0.07677333056926727, 0.011812306940555573, -0.06802903115749359, -0.06320422142744064, -0.009774325415492058, -0.021591588854789734, 0.06802020967006683, 0.013830075040459633, -0.0036554564721882343, -0.0523725189268589, 0.009927982464432716, -0.06073877215385437, -0.044824160635471344, 9.453050734009594e-05, 0.014312656596302986, 0.013485841453075409, 0.03454585745930672, 0.0279819518327713, 0.030333491042256355, -0.05680374428629875, -0.01587524823844433, 0.023831399157643318, -0.0013435401488095522, -0.01025414653122425, -0.015426946803927422, -0.011659529991447926, -0.09853258728981018, -0.033210743218660355, -0.008183863945305347, -0.01020597480237484, 0.04706282541155815, 0.0011570811038836837, 0.052445441484451294, -0.06720669567584991, -0.05489345267415047, -0.017169708386063576, 0.013124393299221992, 0.031433090567588806, 0.06739001721143723, -0.020745959132909775, 0.06363251805305481, -0.006734092254191637, -0.07540537416934967, 0.023273669183254242, -0.023971790447831154, 0.0135541632771492, -0.026880821213126183, 0.00875724758952856, -0.09393003582954407, 0.07382936030626297, 0.00048365149996243417, 0.03418147936463356, 0.03952080383896828, 0.034594204276800156, -0.04702591150999069, 0.00411431398242712, 0.007395934779196978, 0.03258226066827774, 0.053484976291656494, 0.010816951282322407, -0.010470530949532986, 0.0006913061952218413, -0.06984656304121017, -0.03310941532254219, 0.016044698655605316, 0.031097274273633957, -0.03502091392874718, 0.0026623038575053215, -0.07103590667247772, 0.011227825656533241, -0.030785981565713882, -0.07607864588499069, -0.07181765139102936, -0.021024208515882492, 0.023210683837532997, 0.0795682743191719, 0.07965624332427979, -0.03237994760274887, 0.022626006975769997, -0.01760728284716606, 0.009860137477517128, 0.012116857804358006, 0.0054377783089876175, 0.01357161533087492, 0.03257119283080101, -0.0705035850405693, 0.0036253323778510094, -0.0036379992961883545, 1.4728928363183513e-05, 0.00214534648694098, 0.05485127121210098, -0.03581014275550842, -0.028238575905561447, 0.07425279170274734, 0.033582281321287155, -0.07874467223882675, 0.04611014574766159, -0.021760065108537674, -0.06979165226221085, -0.07584750652313232, -0.009855350479483604, -0.04858066886663437, 0.020256787538528442, 0.012275371700525284, -0.03264990448951721, 0.13011488318443298, -0.0023149799089878798, 0.026808638125658035, -0.040589820593595505, 0.000545558228623122, -0.007361334282904863, -0.04510347917675972, -0.02792142517864704, -0.051746394485235214, -0.012852061539888382, -0.008219793438911438, 0.017777757719159126, 0.0022118755150586367, -0.02560329996049404, 0.03943817317485809, -0.008690881542861462, -0.0031628685537725687, 0.146795853972435, -0.057327162474393845, -0.04694894328713417, 0.01668315753340721, 0.04998784884810448, -0.0629877895116806, -0.014793841168284416, -0.06035808101296425, 0.006516901310533285, 0.03331859037280083, -0.002115611918270588, -0.00653582951053977, -0.04837409034371376, -0.04835687577724457, 0.021826017647981644, -0.03428225964307785, -0.042175546288490295]\n"
     ]
    }
   ],
   "source": [
    "# test message \n",
    "test_message = ['claim prize']\n",
    "test_message_vector = embeddings(test_message)\n",
    "print(test_message_vector)"
   ]
  },
  {
   "cell_type": "code",
   "execution_count": null,
   "id": "565f63b9-5e84-4be1-a8a7-d16d1a912115",
   "metadata": {},
   "outputs": [],
   "source": [
    "# vector similarity search \n",
    "\n",
    "search_params = {'metric_type': 'L2', 'params': {'nprobe': 64}}\n",
    "\n",
    "results = collection.search(\n",
    "    data = [test_message_vector],\n",
    "    anns_field = 'message_embeddings',\n",
    "    param = search_params,\n",
    "    limit = 10,\n",
    "    expr = None,\n",
    "    output_fields = ['message']\n",
    ")\n",
    "\n",
    "for result in results[0]:\n",
    "    print(result"
   ]
  }
 ],
 "metadata": {
  "kernelspec": {
   "display_name": "Python 3 (ipykernel)",
   "language": "python",
   "name": "python3"
  },
  "language_info": {
   "codemirror_mode": {
    "name": "ipython",
    "version": 3
   },
   "file_extension": ".py",
   "mimetype": "text/x-python",
   "name": "python",
   "nbconvert_exporter": "python",
   "pygments_lexer": "ipython3",
   "version": "3.9.18"
  }
 },
 "nbformat": 4,
 "nbformat_minor": 5
}

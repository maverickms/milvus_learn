{
 "cells": [
  {
   "cell_type": "code",
   "execution_count": 1,
   "id": "9df09e64-0cf9-436d-bf94-bbc8095e38b2",
   "metadata": {},
   "outputs": [],
   "source": [
    "import os\n",
    "import time\n",
    "import numpy as np\n",
    "import pandas as pd\n",
    "from pymilvus import Collection, FieldSchema, CollectionSchema, DataType, connections, utility\n",
    "from getpass import getpass\n",
    "import openai"
   ]
  },
  {
   "cell_type": "markdown",
   "id": "3c5e5d00-6e87-4f66-b8c2-f9583ffaac0e",
   "metadata": {},
   "source": [
    "### Spotify songs data from Kaggle\n",
    "\n",
    "That data is available for download at - https://www.kaggle.com/datasets/maharshipandya/-spotify-tracks-dataset\n",
    "\n",
    "The dataset contains information on ~114000 songs.  "
   ]
  },
  {
   "cell_type": "code",
   "execution_count": 2,
   "id": "d911cb5e-6a21-4940-a4cb-a2f40884b442",
   "metadata": {},
   "outputs": [
    {
     "data": {
      "text/plain": [
       "(114000, 20)"
      ]
     },
     "execution_count": 2,
     "metadata": {},
     "output_type": "execute_result"
    }
   ],
   "source": [
    "## read the dataset and filter out the un-necessary columns\n",
    "songs_dataset = pd.read_csv('../../songs.zip', compression='zip', header=0)\n",
    "songs_dataset = songs_dataset.loc[:, ~songs_dataset.columns.str.contains('^Unnamed')]\n",
    "songs_dataset.shape"
   ]
  },
  {
   "cell_type": "code",
   "execution_count": 5,
   "id": "581efdd5-4ba9-4a24-a107-89e0f0be6173",
   "metadata": {},
   "outputs": [
    {
     "name": "stdout",
     "output_type": "stream",
     "text": [
      "<module 'openai.version' from '/home/maverick/miniconda3/envs/milvus-env/lib/python3.9/site-packages/openai/version.py'>\n"
     ]
    }
   ],
   "source": [
    "print(openai.version)"
   ]
  },
  {
   "cell_type": "code",
   "execution_count": 6,
   "id": "0b3389d0-a412-4795-bdd5-d9351519d3b8",
   "metadata": {},
   "outputs": [
    {
     "name": "stdout",
     "output_type": "stream",
     "text": [
      "                         album_name       track_name  popularity\n",
      "3006  Hybrid Theory (Bonus Edition)       In the End          85\n",
      "3007                        Meteora             Numb          83\n",
      "3262  Hybrid Theory (Bonus Edition)  One Step Closer          78\n",
      "3263                        Meteora            Faint          77\n",
      "3311  Hybrid Theory (Bonus Edition)         Crawling          76\n",
      "(154, 3)\n"
     ]
    }
   ],
   "source": [
    "## filter the data for linkin park, choose only album name, track name and popularity\n",
    "## columns for further processing\n",
    "\n",
    "lp_dataset = songs_dataset[songs_dataset['artists'].str.contains(\"Linkin Park\", na=False)]\n",
    "lp_dataset = lp_dataset[['album_name', 'track_name', 'popularity']]\n",
    "lp_dataset = lp_dataset.drop_duplicates(subset = ['album_name', 'track_name'])\n",
    "lp_dataset = lp_dataset.sort_values('popularity', ascending=False)\n",
    "\n",
    "print(lp_dataset.head())\n",
    "print(lp_dataset.shape)"
   ]
  },
  {
   "cell_type": "code",
   "execution_count": 13,
   "id": "bb8a5f6d-4774-4d78-b5fe-d82e1a1b305b",
   "metadata": {},
   "outputs": [
    {
     "name": "stdin",
     "output_type": "stream",
     "text": [
      "OpenAI API Key:  ········\n"
     ]
    },
    {
     "name": "stdout",
     "output_type": "stream",
     "text": [
      "None\n"
     ]
    }
   ],
   "source": [
    "# Configs\n",
    "\n",
    "COLLECTION_NAME = 'linkin_park' # collection name in milvus\n",
    "DIMENSION = 1536 # embeddings size, depends on the embeddings model\n",
    "COUNT = 200 # number of titles to embed and insert\n",
    "OPENAI_ENGINE = 'text-embedding-3-small' # model to use\n",
    "openai.api_key = getpass('OpenAI API Key: ')\n",
    "print(openai.api_version)"
   ]
  },
  {
   "cell_type": "code",
   "execution_count": 8,
   "id": "982887ae-fa82-4d3d-9dd9-79c89994d1c8",
   "metadata": {},
   "outputs": [],
   "source": [
    "# connect to the database \n",
    "\n",
    "connections.connect(\n",
    "    alias='default',\n",
    "    host='localhost',\n",
    "    port='19530'\n",
    ")"
   ]
  },
  {
   "cell_type": "code",
   "execution_count": 9,
   "id": "77e802fd-9878-42a0-847f-56a22c32371e",
   "metadata": {},
   "outputs": [
    {
     "data": {
      "text/plain": [
       "Status(code=0, message=)"
      ]
     },
     "execution_count": 9,
     "metadata": {},
     "output_type": "execute_result"
    }
   ],
   "source": [
    "# remove the collection is it already exists \n",
    "\n",
    "if(utility.has_collection(COLLECTION_NAME)):\n",
    "    utility.drop_collection(COLLECTION_NAME)\n",
    "\n",
    "# Create the collection\n",
    "track_name_field = FieldSchema(name='track_name', dtype=DataType.VARCHAR, max_length=1024, is_primary=True, auto_id=False)\n",
    "album_name_field = FieldSchema(name='album_name', dtype=DataType.VARCHAR, max_length=1024)\n",
    "popularity_field = FieldSchema(name='popularity', dtype=DataType.INT64)\n",
    "embedding_field = FieldSchema(name='embedding', dtype=DataType.FLOAT_VECTOR, description='Embedding vectors', dim=DIMENSION)\n",
    "\n",
    "fields = [track_name_field, album_name_field, popularity_field, embedding_field]\n",
    "schema = CollectionSchema(fields=fields, description='Linkin Park Songs Collection')\n",
    "collection = Collection(name=COLLECTION_NAME, schema=schema)\n",
    "\n",
    "# create an index for the collection\n",
    "index_params = {\n",
    "    'index_type': 'IVF_FLAT',\n",
    "    'metric_type': 'L2',\n",
    "    'params': {'nlist': 64}\n",
    "}\n",
    "\n",
    "collection.create_index(field_name='embedding', index_params=index_params)"
   ]
  },
  {
   "cell_type": "code",
   "execution_count": 15,
   "id": "2515513b-a6eb-43ce-b360-b112336442ff",
   "metadata": {},
   "outputs": [],
   "source": [
    "# get the embeddings\n",
    "\n",
    "def embed(text):\n",
    "    return openai.Embedding.create(\n",
    "        input=text,\n",
    "        engine=OPENAI_ENGINE)[\"data\"][0][\"embedding\"]"
   ]
  },
  {
   "cell_type": "code",
   "execution_count": 14,
   "id": "b714d049-4abd-4db9-b9bd-749ff35d17c7",
   "metadata": {
    "collapsed": true,
    "jupyter": {
     "outputs_hidden": true
    }
   },
   "outputs": [
    {
     "name": "stdout",
     "output_type": "stream",
     "text": [
      "None\n",
      "None\n",
      "None\n",
      "None\n",
      "None\n",
      "None\n",
      "None\n",
      "None\n",
      "None\n",
      "None\n",
      "Embedding geneated for 10 song titles\n",
      "None\n",
      "None\n",
      "None\n",
      "None\n",
      "None\n",
      "None\n",
      "None\n",
      "None\n",
      "None\n",
      "None\n",
      "Embedding geneated for 20 song titles\n",
      "None\n",
      "None\n",
      "None\n",
      "None\n",
      "None\n",
      "None\n",
      "None\n",
      "None\n",
      "None\n",
      "None\n",
      "Embedding geneated for 30 song titles\n",
      "None\n",
      "None\n",
      "None\n",
      "None\n",
      "None\n",
      "None\n",
      "None\n",
      "None\n",
      "None\n",
      "None\n",
      "Embedding geneated for 40 song titles\n",
      "None\n",
      "None\n",
      "None\n",
      "None\n",
      "None\n",
      "None\n",
      "None\n",
      "None\n",
      "None\n",
      "None\n",
      "Embedding geneated for 50 song titles\n",
      "None\n",
      "None\n",
      "None\n",
      "None\n",
      "None\n",
      "None\n",
      "None\n",
      "None\n",
      "None\n",
      "None\n",
      "Embedding geneated for 60 song titles\n",
      "None\n",
      "None\n",
      "None\n",
      "None\n",
      "None\n",
      "None\n",
      "None\n",
      "None\n",
      "None\n",
      "None\n",
      "Embedding geneated for 70 song titles\n",
      "None\n",
      "None\n",
      "None\n",
      "None\n",
      "None\n",
      "None\n",
      "None\n",
      "None\n",
      "None\n",
      "None\n",
      "Embedding geneated for 80 song titles\n",
      "None\n",
      "None\n",
      "None\n",
      "None\n",
      "None\n",
      "None\n",
      "None\n",
      "None\n",
      "None\n",
      "None\n",
      "Embedding geneated for 90 song titles\n",
      "None\n",
      "None\n",
      "None\n",
      "None\n",
      "None\n",
      "None\n",
      "None\n",
      "None\n",
      "None\n",
      "None\n",
      "Embedding geneated for 100 song titles\n",
      "None\n",
      "None\n",
      "None\n",
      "None\n",
      "None\n",
      "None\n",
      "None\n",
      "None\n",
      "None\n",
      "None\n",
      "Embedding geneated for 110 song titles\n",
      "None\n",
      "None\n",
      "None\n",
      "None\n",
      "None\n",
      "None\n",
      "None\n",
      "None\n",
      "None\n",
      "None\n",
      "Embedding geneated for 120 song titles\n",
      "None\n",
      "None\n",
      "None\n",
      "None\n",
      "None\n",
      "None\n",
      "None\n",
      "None\n",
      "None\n",
      "None\n",
      "Embedding geneated for 130 song titles\n",
      "None\n",
      "None\n",
      "None\n",
      "None\n",
      "None\n",
      "None\n",
      "None\n",
      "None\n",
      "None\n",
      "None\n",
      "Embedding geneated for 140 song titles\n",
      "None\n",
      "None\n",
      "None\n",
      "None\n",
      "None\n",
      "None\n",
      "None\n",
      "None\n",
      "None\n",
      "None\n",
      "Embedding geneated for 150 song titles\n",
      "None\n",
      "None\n",
      "None\n",
      "None\n"
     ]
    }
   ],
   "source": [
    "# get embedding\n",
    "\n",
    "count = 0\n",
    "tracks = []\n",
    "albums = []\n",
    "popularity = []\n",
    "embds = []\n",
    "\n",
    "for index, row in lp_dataset.iterrows():\n",
    "    tracks.append(row['track_name'])\n",
    "    albums.append(row['album_name'])\n",
    "    popularity.append(row['popularity'])\n",
    "    embds.append(embed(row['track_name']))\n",
    "    time.sleep(1)\n",
    "    count += 1\n",
    "    if count%10==0 and count>0:\n",
    "        print(f'Embedding generated for {count} song titles')\n",
    "    if count==COUNT:\n",
    "        break\n",
    "\n",
    "data_to_insert = [tracks, albums, popularity, embds]"
   ]
  },
  {
   "cell_type": "code",
   "execution_count": 18,
   "id": "690ecd3f-3263-4a30-939a-609d5b42f2a5",
   "metadata": {},
   "outputs": [
    {
     "data": {
      "text/plain": [
       "(insert count: 154, delete count: 0, upsert count: 0, timestamp: 448591266272247811, success count: 154, err count: 0)"
      ]
     },
     "execution_count": 18,
     "metadata": {},
     "output_type": "execute_result"
    }
   ],
   "source": [
    "collection.insert(data_to_insert)"
   ]
  },
  {
   "cell_type": "code",
   "execution_count": 27,
   "id": "2cb4d14b-d21c-421b-9df5-00130432d692",
   "metadata": {},
   "outputs": [],
   "source": [
    "# load the collection in memory\n",
    "collection.load()\n",
    "\n",
    "# search the DB for input\n",
    "def search(text):\n",
    "    search_params={\"metric_type\": \"L2\"}\n",
    "    results = collection.search(\n",
    "        data=[embed(text)],\n",
    "        anns_field=\"embedding\",\n",
    "        param=search_params,\n",
    "        limit=10,\n",
    "        output_fields=['album_name', 'popularity']\n",
    "    )\n",
    "    return results\n",
    "\n",
    "search_terms=['blade']"
   ]
  },
  {
   "cell_type": "code",
   "execution_count": 20,
   "id": "b6373841-8f1c-46eb-b919-fd3c95552e81",
   "metadata": {},
   "outputs": [
    {
     "name": "stdout",
     "output_type": "stream",
     "text": [
      "4\n"
     ]
    }
   ],
   "source": [
    "print(len(data_to_insert))"
   ]
  },
  {
   "cell_type": "code",
   "execution_count": 28,
   "id": "ce7255ef-9f81-44e8-94f8-c021a384f4a7",
   "metadata": {},
   "outputs": [
    {
     "name": "stdout",
     "output_type": "stream",
     "text": [
      "====================\n",
      "Name:  Papercut\n",
      "Album:  Hybrid Theory (20th Anniversary Edition)\n",
      "Popularity:  53\n",
      "====================\n",
      "Name:  Sharp Edges\n",
      "Album:  One More Light\n",
      "Popularity:  57\n",
      "====================\n",
      "Name:  Bleed It Out\n",
      "Album:  Minutes to Midnight\n",
      "Popularity:  58\n",
      "====================\n",
      "Name:  SKIN TO BONE\n",
      "Album:  LIVING THINGS\n",
      "Popularity:  52\n",
      "====================\n",
      "Name:  CASTLE OF GLASS\n",
      "Album:  LIVING THINGS\n",
      "Popularity:  73\n",
      "====================\n",
      "Name:  The Catalyst\n",
      "Album:  A Thousand Suns\n",
      "Popularity:  36\n",
      "====================\n",
      "Name:  POWERLESS\n",
      "Album:  LIVING THINGS\n",
      "Popularity:  60\n"
     ]
    }
   ],
   "source": [
    "results = search(search_terms)\n",
    "\n",
    "for indx, result in enumerate(results[0]):\n",
    "    print('='*20)\n",
    "    print('Name: ', result.id)\n",
    "    print('Album: ', result.entity.get('album_name'))\n",
    "    print('Popularity: ', result.entity.get('popularity'))"
   ]
  },
  {
   "cell_type": "code",
   "execution_count": 29,
   "id": "2a1e5b63-3d17-4d11-91a2-fb81e3466b90",
   "metadata": {},
   "outputs": [],
   "source": [
    "collection.release()"
   ]
  },
  {
   "cell_type": "code",
   "execution_count": null,
   "id": "35c8dd38-fd91-4d68-848e-e4b5349db664",
   "metadata": {},
   "outputs": [],
   "source": []
  }
 ],
 "metadata": {
  "kernelspec": {
   "display_name": "Python 3 (ipykernel)",
   "language": "python",
   "name": "python3"
  },
  "language_info": {
   "codemirror_mode": {
    "name": "ipython",
    "version": 3
   },
   "file_extension": ".py",
   "mimetype": "text/x-python",
   "name": "python",
   "nbconvert_exporter": "python",
   "pygments_lexer": "ipython3",
   "version": "3.9.18"
  }
 },
 "nbformat": 4,
 "nbformat_minor": 5
}

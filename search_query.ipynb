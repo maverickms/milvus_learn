{
 "cells": [
  {
   "cell_type": "code",
   "execution_count": 1,
   "id": "8eb5fc19-29dd-4a56-8a4c-3b7903a31d15",
   "metadata": {},
   "outputs": [
    {
     "data": {
      "text/plain": [
       "['Album1']"
      ]
     },
     "execution_count": 1,
     "metadata": {},
     "output_type": "execute_result"
    }
   ],
   "source": [
    "from pymilvus import Collection, FieldSchema, CollectionSchema, DataType, connections, utility\n",
    "\n",
    "connections.connect (\n",
    "    alias = 'default',\n",
    "    host = 'localhost',\n",
    "    port = '19530'\n",
    ")\n",
    "\n",
    "collection = Collection('Album1')\n",
    "collection.compact()\n",
    "utility.list_collections()"
   ]
  },
  {
   "cell_type": "code",
   "execution_count": 34,
   "id": "4979a1fb-5cb0-4cf3-8b04-6d4c39e9500f",
   "metadata": {},
   "outputs": [],
   "source": [
    "# load collection into the memory\n",
    "collection.load(replica_number = 1)"
   ]
  },
  {
   "cell_type": "code",
   "execution_count": 18,
   "id": "955c8664-aee7-4f3d-a988-c37624b227ab",
   "metadata": {},
   "outputs": [
    {
     "name": "stdout",
     "output_type": "stream",
     "text": [
      "id: 664, distance: 0.00013574730837717652, entity: {'song_id': 664, 'song_name': 'LSQAWGD'}\n",
      "id: 2450, distance: 0.0002820241206791252, entity: {'song_id': 2450, 'song_name': 'RTQOPDA'}\n",
      "id: 3227, distance: 0.0002841656096279621, entity: {'song_id': 3227, 'song_name': 'PSUOXHO'}\n",
      "id: 1328, distance: 0.00041068007703870535, entity: {'song_id': 1328, 'song_name': 'DXRMATA'}\n",
      "id: 4507, distance: 0.0004612235352396965, entity: {'song_id': 4507, 'song_name': 'AMBOZIR'}\n",
      "id: 4918, distance: 0.00048470887122675776, entity: {'song_id': 4918, 'song_name': 'YBWTVWC'}\n",
      "id: 2216, distance: 0.0005587755586020648, entity: {'song_id': 2216, 'song_name': 'YAQEEIM'}\n",
      "id: 2658, distance: 0.0006584832444787025, entity: {'song_id': 2658, 'song_name': 'AAAVNPA'}\n",
      "id: 1495, distance: 0.000728147104382515, entity: {'song_id': 1495, 'song_name': 'JAUCQLX'}\n",
      "id: 1661, distance: 0.0007731809164397418, entity: {'song_id': 1661, 'song_name': 'PNEOOOL'}\n"
     ]
    }
   ],
   "source": [
    "## vector similarity search\n",
    "\n",
    "results = collection.search (\n",
    "    data = [[0.1, 0.2]], # data to be searched for\n",
    "    anns_field = \"song_vec\", # the field to search for data in\n",
    "    param = {\"metric_type\": \"L2\", \"params\": {\"search_k\": 64}}, ## search params, depends on the index type\n",
    "    limit = 10, ## to limit the number of results\n",
    "    expr = None, ## to be used only for hybrid search (i.e. searching on a mix of vector and scalar fields)\n",
    "    output_fields=['song_id', 'song_name']\n",
    ")\n",
    "\n",
    "for result in results[0]:\n",
    "    print(result)\n"
   ]
  },
  {
   "cell_type": "code",
   "execution_count": null,
   "id": "0279d933-fbd9-467d-aff3-2ac5bfe0301a",
   "metadata": {},
   "outputs": [],
   "source": [
    "## distance above is the Euclidean distance betwen the input vector and returned vector"
   ]
  },
  {
   "cell_type": "code",
   "execution_count": 45,
   "id": "4d660a64-2ff8-43cb-a8ae-f9b121b4eed7",
   "metadata": {},
   "outputs": [
    {
     "name": "stdout",
     "output_type": "stream",
     "text": [
      "{'song_id': 2635, 'song_name': 'AZLMLPJ', 'listen_count': 19562}\n",
      "{'song_id': 4672, 'song_name': 'AZUUOIZ', 'listen_count': 19713}\n"
     ]
    }
   ],
   "source": [
    "# Query the data in scalar fields\n",
    "\n",
    "query_res = collection.query (\n",
    "    expr = 'song_name like \"AZ%\" && 2000 < song_id < 5000',\n",
    "    limit = 10,\n",
    "    output_fields = ['song_id', 'song_name', 'listen_count']\n",
    ")\n",
    "\n",
    "for result in query_res:\n",
    "    print(result)"
   ]
  },
  {
   "cell_type": "code",
   "execution_count": 31,
   "id": "db9e3a81-6cc3-4bc1-90ec-fe6b052cffd8",
   "metadata": {},
   "outputs": [
    {
     "name": "stdout",
     "output_type": "stream",
     "text": [
      "id: 4636, distance: 0.013402235694229603, entity: {'listen_count': 445, 'song_id': 4636, 'song_name': 'TFFWCEJ'}\n",
      "id: 1658, distance: 0.014259373769164085, entity: {'listen_count': 404, 'song_id': 1658, 'song_name': 'ZDWWGXL'}\n",
      "id: 4725, distance: 0.029278799891471863, entity: {'listen_count': 324, 'song_id': 4725, 'song_name': 'COOAZPO'}\n",
      "id: 4953, distance: 0.04059791937470436, entity: {'listen_count': 476, 'song_id': 4953, 'song_name': 'EUUWLWY'}\n",
      "id: 2471, distance: 0.050674326717853546, entity: {'listen_count': 472, 'song_id': 2471, 'song_name': 'BMLYPDN'}\n",
      "id: 814, distance: 0.06299011409282684, entity: {'listen_count': 289, 'song_id': 814, 'song_name': 'JSLUZVC'}\n",
      "id: 1014, distance: 0.11874350905418396, entity: {'listen_count': 193, 'song_id': 1014, 'song_name': 'KCUYLCA'}\n",
      "id: 561, distance: 0.12167960405349731, entity: {'listen_count': 118, 'song_id': 561, 'song_name': 'XEFTBPQ'}\n",
      "id: 4726, distance: 0.13499119877815247, entity: {'listen_count': 348, 'song_id': 4726, 'song_name': 'YNOTXCU'}\n",
      "id: 16, distance: 0.2113998383283615, entity: {'listen_count': 419, 'song_id': 16, 'song_name': 'PNWMNOO'}\n"
     ]
    }
   ],
   "source": [
    "## hybrid search \n",
    "\n",
    "hybrid_res = collection.search (\n",
    "    data = [[0.1, 0.2]], # data to be searched for\n",
    "    anns_field = \"song_vec\", # the field to search for data in\n",
    "    param = {\"metric_type\": \"L2\", \"params\": {\"search_k\": 64}}, ## search params, depends on the index type\n",
    "    limit = 10, ## to limit the number of results\n",
    "    expr = \"listen_count <= 500\", ## to be used only for hybrid search (i.e. searching on a mix of vector and scalar fields)\n",
    "    output_fields=['song_id', 'song_name', 'listen_count']\n",
    ")\n",
    "\n",
    "for result in hybrid_res[0]:\n",
    "    print(result)"
   ]
  },
  {
   "cell_type": "code",
   "execution_count": 32,
   "id": "49fd5cf5-498f-405c-ac82-26db4d4fe4fd",
   "metadata": {},
   "outputs": [],
   "source": [
    "## release the collection from the memory \n",
    "\n",
    "collection.release()"
   ]
  },
  {
   "cell_type": "code",
   "execution_count": null,
   "id": "02676ed3-4354-42aa-9842-0dab4bbd664c",
   "metadata": {},
   "outputs": [],
   "source": []
  }
 ],
 "metadata": {
  "kernelspec": {
   "display_name": "Python 3 (ipykernel)",
   "language": "python",
   "name": "python3"
  },
  "language_info": {
   "codemirror_mode": {
    "name": "ipython",
    "version": 3
   },
   "file_extension": ".py",
   "mimetype": "text/x-python",
   "name": "python",
   "nbconvert_exporter": "python",
   "pygments_lexer": "ipython3",
   "version": "3.9.18"
  }
 },
 "nbformat": 4,
 "nbformat_minor": 5
}

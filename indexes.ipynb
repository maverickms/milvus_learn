{
 "cells": [
  {
   "cell_type": "code",
   "execution_count": 3,
   "id": "8241498a-527a-4c24-ab22-676f4f59c63f",
   "metadata": {},
   "outputs": [],
   "source": [
    "from pymilvus import Collection, FieldSchema, CollectionSchema, DataType, connections, utility"
   ]
  },
  {
   "cell_type": "code",
   "execution_count": 4,
   "id": "279f726d-468a-4185-98d6-b75e8c2ed980",
   "metadata": {},
   "outputs": [],
   "source": [
    "connections.connect (\n",
    "    alias='default',\n",
    "    host='localhost',\n",
    "    port='19530'\n",
    ")"
   ]
  },
  {
   "cell_type": "code",
   "execution_count": 6,
   "id": "2e8d0a79-005e-4779-962f-6b438cf77a6f",
   "metadata": {},
   "outputs": [
    {
     "data": {
      "text/plain": [
       "['Album1']"
      ]
     },
     "execution_count": 6,
     "metadata": {},
     "output_type": "execute_result"
    }
   ],
   "source": [
    "collection = Collection('Album1')\n",
    "utility.list_collections()"
   ]
  },
  {
   "cell_type": "code",
   "execution_count": 7,
   "id": "681502e9-4283-44d4-83f5-8a0708354234",
   "metadata": {},
   "outputs": [],
   "source": [
    "index_params = {\n",
    "    'metric_type': 'L2',\n",
    "    'index_type': 'ANNOY',\n",
    "    'params': {'n_trees': 64},\n",
    "    'index_name': 'Custom_Annoy'\n",
    "}"
   ]
  },
  {
   "cell_type": "code",
   "execution_count": 8,
   "id": "105f7fb9-9481-484e-b25c-167cd8fa72e3",
   "metadata": {},
   "outputs": [
    {
     "data": {
      "text/plain": [
       "Status(code=0, message=)"
      ]
     },
     "execution_count": 8,
     "metadata": {},
     "output_type": "execute_result"
    }
   ],
   "source": [
    "collection.create_index(\n",
    "    field_name='song_vec',\n",
    "    index_params=index_params\n",
    ")"
   ]
  },
  {
   "cell_type": "code",
   "execution_count": 9,
   "id": "4eb8196a-257f-49f1-abe3-7f6c35265722",
   "metadata": {},
   "outputs": [
    {
     "data": {
      "text/plain": [
       "Status(code=0, message=)"
      ]
     },
     "execution_count": 9,
     "metadata": {},
     "output_type": "execute_result"
    }
   ],
   "source": [
    "# index on scalar field\n",
    "\n",
    "collection.create_index (\n",
    "    field_name = 'song_name',\n",
    "    index_name = 'scalar_index_album1'\n",
    ")"
   ]
  },
  {
   "cell_type": "code",
   "execution_count": 11,
   "id": "2c8bbfc0-6e4d-41de-a5ad-46d4288f5b98",
   "metadata": {},
   "outputs": [],
   "source": [
    "# drop index \n",
    "collection.drop_index(index_name = 'Custom_Annoy')"
   ]
  },
  {
   "cell_type": "code",
   "execution_count": null,
   "id": "c7816ce0-5bc7-4035-91d6-63a55758d62d",
   "metadata": {},
   "outputs": [],
   "source": []
  }
 ],
 "metadata": {
  "kernelspec": {
   "display_name": "Python 3 (ipykernel)",
   "language": "python",
   "name": "python3"
  },
  "language_info": {
   "codemirror_mode": {
    "name": "ipython",
    "version": 3
   },
   "file_extension": ".py",
   "mimetype": "text/x-python",
   "name": "python",
   "nbconvert_exporter": "python",
   "pygments_lexer": "ipython3",
   "version": "3.9.18"
  }
 },
 "nbformat": 4,
 "nbformat_minor": 5
}
